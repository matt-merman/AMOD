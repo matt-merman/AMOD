{
 "cells": [
  {
   "cell_type": "code",
   "execution_count": 205,
   "metadata": {},
   "outputs": [],
   "source": [
    "from guroby.helpers import *\n",
    "import guroby.constants as const\n",
    "\n",
    "class Dualoc:\n",
    "    def __init__(self, num_customers, num_facilities):\n",
    "        self.num_customers = num_customers\n",
    "        self.num_facilities = num_facilities\n",
    "        \n",
    "        self.w = {}\n",
    "\n",
    "        self.customers = populate_one(self.num_customers)\n",
    "        self.facilities = populate_one(self.num_facilities)\n",
    "        self.setup_cost = populate_two(self.num_facilities)\n",
    "        \n",
    "        self.cartesian_prod = list(product(range(self.num_customers), range(self.num_facilities)))\n",
    "\n",
    "        # Compute shipping costs\n",
    "        self.shipping_cost = {(c,f): const.COST_PER_MILE*compute_distance(self.customers[c], self.facilities[f]) for c, f in self.cartesian_prod}"
   ]
  },
  {
   "cell_type": "markdown",
   "metadata": {},
   "source": [
    "$z_{v} = \\min_{u∈U} \\{c_{vu}\\}, \\ v∈V$"
   ]
  },
  {
   "cell_type": "code",
   "execution_count": 206,
   "metadata": {},
   "outputs": [],
   "source": [
    "from itertools import product\n",
    "from math import sqrt\n",
    "import guroby.constants as const\n",
    "from guroby.helpers import *\n",
    "\n",
    "class Dualoc(Dualoc):\n",
    "    def calculate_z(self):\n",
    "        values = []\n",
    "        for i in range(0, self.num_customers) : values.append(0)\n",
    "\n",
    "        current_value = 1000\n",
    "        current_customer = 0\n",
    "\n",
    "        for key in self.shipping_cost:\n",
    "\n",
    "            if key[0] != current_customer: \n",
    "                \n",
    "                current_value = 100\n",
    "                current_customer = key[0]\n",
    "\n",
    "            new_value = self.shipping_cost[key]\n",
    "\n",
    "            if current_value > new_value: current_value = new_value\n",
    "            \n",
    "            values[current_customer] = current_value\n",
    "\n",
    "        return values"
   ]
  },
  {
   "cell_type": "markdown",
   "metadata": {},
   "source": [
    "$w_{vu} = max\\{0, z_v−c_{vu}\\}$"
   ]
  },
  {
   "cell_type": "code",
   "execution_count": 207,
   "metadata": {},
   "outputs": [],
   "source": [
    "class Dualoc(Dualoc):\n",
    "    def calculate_w(self, values):\n",
    "        for v in range(0, self.num_customers):\n",
    "            \n",
    "            z = values[v]\n",
    "\n",
    "            for u in range(0, self.num_facilities):\n",
    "\n",
    "                c = self.shipping_cost.get((v, u))\n",
    "                elem = max(0, z-c)\n",
    "                key = (v, u)\n",
    "                self.w[key] = elem\n",
    "        return self.w"
   ]
  },
  {
   "cell_type": "markdown",
   "metadata": {},
   "source": [
    "$z^{max}_s = \\min_{u∈U} \\{c_{su} + f_u − \\sum_{v \\neq s} w_{vu}\\}$"
   ]
  },
  {
   "cell_type": "code",
   "execution_count": 208,
   "metadata": {},
   "outputs": [
    {
     "name": "stdout",
     "output_type": "stream",
     "text": [
      "\n",
      "z = 5385.570619980307\n"
     ]
    }
   ],
   "source": [
    "class Dualoc(Dualoc):\n",
    "    def calculate_sum(self, s, u, w):\n",
    "        su = 0\n",
    "\n",
    "        for key in w:\n",
    "\n",
    "            if key[0] == s:\n",
    "                continue\n",
    "            elif key[1] == u:\n",
    "                su += w[key]\n",
    "\n",
    "        return su\n",
    "    \n",
    "    def calculate_z_s(self, w, v):\n",
    "        z_max = []\n",
    "        for i in range(0, self.num_facilities) : z_max.append(0)\n",
    "\n",
    "        for s in range(0, self.num_customers):\n",
    "\n",
    "            for u in range(0, self.num_facilities):\n",
    "\n",
    "                c = self.shipping_cost.get((s, u))\n",
    "                f = self.setup_cost[u]\n",
    "                summ = self.calculate_sum(s,u,w)\n",
    "                z = c + f - summ\n",
    "                z_max[u] = z\n",
    "                #print(f\"{c} + {f} - {summ} = {z}\")\n",
    "            \n",
    "            v[s] = min(z_max)\n",
    "            w = self.calculate_w(v)\n",
    "\n",
    "        h = len(v)\n",
    "        for i in range(h):\n",
    "            continue\n",
    "            #print(f\"| {v[i]} |\")\n",
    "        print(f\"\\nz = {sum(v)}\")\n",
    "\n",
    "d = Dualoc(num_customers=const.CUSTOMERS, num_facilities=const.FACILITIES)\n",
    "v = d.calculate_z()\n",
    "w = d.calculate_w(v)\n",
    "d.calculate_z_s(w, v)"
   ]
  }
 ],
 "metadata": {
  "interpreter": {
   "hash": "916dbcbb3f70747c44a77c7bcd40155683ae19c65e1c03b4aa3499c5328201f1"
  },
  "kernelspec": {
   "display_name": "Python 3.8.10 64-bit",
   "name": "python3"
  },
  "language_info": {
   "codemirror_mode": {
    "name": "ipython",
    "version": 3
   },
   "file_extension": ".py",
   "mimetype": "text/x-python",
   "name": "python",
   "nbconvert_exporter": "python",
   "pygments_lexer": "ipython3",
   "version": "3.8.10"
  },
  "orig_nbformat": 4
 },
 "nbformat": 4,
 "nbformat_minor": 2
}
