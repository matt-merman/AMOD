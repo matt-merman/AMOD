{
 "cells": [
  {
   "cell_type": "code",
   "execution_count": 9,
   "metadata": {},
   "outputs": [],
   "source": [
    "customers = [(0,1.5), (2.5,1.2), (1,1), (1,2), (1,3.4), (2,5.6), (0,1), (0,0), (4,1), (7,1), (2,3), (3,4), (4,5), (6,7), (5,9)]\n",
    "facilities = [(0,0), (0,1), (0,2), (1,0), (1,1), (1,2), (2,0), (2,1), (2,2)]\n",
    "setup_cost = [4, 3, 1, 4, 7]\n",
    "cost_per_mile = 1"
   ]
  },
  {
   "cell_type": "markdown",
   "metadata": {},
   "source": [
    "$z_{v} = \\min_{u∈U} \\{c_{vu}\\}, \\ v∈V$"
   ]
  },
  {
   "cell_type": "code",
   "execution_count": 10,
   "metadata": {},
   "outputs": [
    {
     "name": "stdout",
     "output_type": "stream",
     "text": [
      "[0, 1, 0, 2, 0, 0]\n"
     ]
    }
   ],
   "source": [
    "from itertools import product\n",
    "from math import sqrt\n",
    "\n",
    "def compute_distance(loc1, loc2):\n",
    "    dx = loc1[0] - loc2[0]\n",
    "    dy = loc1[1] - loc2[1]\n",
    "    return sqrt(dx*dx + dy*dy)\n",
    "\n",
    "# Compute key parameters of MIP model formulation\n",
    "#num_facilities = len(facilities)\n",
    "#num_customers = len(customers)\n",
    "num_facilities = 5\n",
    "num_customers = 6\n",
    "\n",
    "cartesian_prod = list(product(range(num_customers), range(num_facilities)))\n",
    "\n",
    "# Compute shipping costs\n",
    "#shipping_cost = {(c,f): cost_per_mile*compute_distance(customers[c], facilities[f]) for c, f in cartesian_prod}\n",
    "\n",
    "shipping_cost = {(0,0): 12, (0,1): 13, (0,2): 6, (0,3): 0, (0,4): 1,\n",
    "(1,0): 8, (1,1): 4, (1,2): 9, (1,3): 1, (1,4): 2,\n",
    "(2,0): 2, (2,1): 6, (2,2): 6, (2,3): 0, (2,4): 1,\n",
    "(3,0): 3, (3,1): 5, (3,2): 2, (3,3): 10, (3,4): 8,\n",
    "(4,0): 8, (4,1): 0, (4,2): 5, (4,3): 10, (4,4): 8,\n",
    "(5,0): 2, (5,1): 0, (5,2): 3, (5,3): 4, (5,4): 1,}\n",
    "\n",
    "#print('facilities :' + str(num_facilities))\n",
    "#print('customers :' + str(num_customers))\n",
    "#print(shipping_cost)\n",
    "\n",
    "\n",
    "values = []\n",
    "for i in range(0, num_customers) : values.append(0)\n",
    "\n",
    "current_value = 1000\n",
    "current_customer = 0\n",
    "\n",
    "for key in shipping_cost:\n",
    "\n",
    "    if key[0] != current_customer: \n",
    "        \n",
    "        current_value = 100\n",
    "        current_customer = key[0]\n",
    "\n",
    "    new_value = shipping_cost[key]\n",
    "\n",
    "    if current_value > new_value: current_value = new_value\n",
    "    \n",
    "    values[current_customer] = current_value\n",
    "\n",
    "print(values)"
   ]
  },
  {
   "cell_type": "markdown",
   "metadata": {},
   "source": [
    "$w_{vu} = max\\{0, z_v−c_{vu}\\}$"
   ]
  },
  {
   "cell_type": "code",
   "execution_count": 11,
   "metadata": {},
   "outputs": [
    {
     "name": "stdout",
     "output_type": "stream",
     "text": [
      "{(0, 0): 0, (0, 1): 0, (0, 2): 0, (0, 3): 0, (0, 4): 0, (1, 0): 0, (1, 1): 0, (1, 2): 0, (1, 3): 0, (1, 4): 0, (2, 0): 0, (2, 1): 0, (2, 2): 0, (2, 3): 0, (2, 4): 0, (3, 0): 0, (3, 1): 0, (3, 2): 0, (3, 3): 0, (3, 4): 0, (4, 0): 0, (4, 1): 0, (4, 2): 0, (4, 3): 0, (4, 4): 0, (5, 0): 0, (5, 1): 0, (5, 2): 0, (5, 3): 0, (5, 4): 0}\n"
     ]
    }
   ],
   "source": [
    "#starting form the first customer\n",
    "w = {}\n",
    "\n",
    "def max_w(values):\n",
    "    for v in range(0, num_customers):\n",
    "        \n",
    "        z = values[v]\n",
    "\n",
    "        for u in range(0, num_facilities):\n",
    "\n",
    "            c = shipping_cost.get((v, u))\n",
    "            elem = max(0, z-c)\n",
    "            key = (v, u)\n",
    "            w[key] = elem\n",
    "    return w\n",
    "\n",
    "w = max_w(values)\n",
    "print(w)"
   ]
  },
  {
   "cell_type": "markdown",
   "metadata": {},
   "source": [
    "$z^{max}_s = \\min_{u∈U} \\{c_{su} + f_u − \\sum_{v \\neq s} w_{vu}\\}$"
   ]
  },
  {
   "cell_type": "code",
   "execution_count": 12,
   "metadata": {},
   "outputs": [
    {
     "name": "stdout",
     "output_type": "stream",
     "text": [
      "| 4 |\n",
      "| 1 |\n",
      "| 0 |\n",
      "| 3 |\n",
      "| 3 |\n",
      "| 0 |\n",
      "\n",
      "z = 11\n"
     ]
    }
   ],
   "source": [
    "def new_sum(s,u,w):\n",
    "    \n",
    "    su = 0\n",
    "\n",
    "    for key in w:\n",
    "\n",
    "        if key[0] == s:\n",
    "            continue\n",
    "        elif key[1] == u:\n",
    "            su += w[key]\n",
    "\n",
    "    return su\n",
    "\n",
    "z_max = []\n",
    "for i in range(0, num_facilities) : z_max.append(0)\n",
    "\n",
    "for s in range(0, num_customers):\n",
    "\n",
    "    for u in range(0, num_facilities):\n",
    "\n",
    "        c = shipping_cost.get((s, u))\n",
    "        f = setup_cost[u]\n",
    "        summ = new_sum(s,u,w)\n",
    "        z = c + f - summ\n",
    "        z_max[u] = z\n",
    "        #print(f\"{c} + {f} - {summ} = {z}\")\n",
    "    \n",
    "    values[s] = min(z_max)\n",
    "    w = max_w(values)\n",
    "\n",
    "h = len(values) # integer division in Python 3\n",
    "for i in range(h):\n",
    "    print(f\"| {values[i]} |\")\n",
    "print(f\"\\nz = {sum(values)}\")\n"
   ]
  }
 ],
 "metadata": {
  "interpreter": {
   "hash": "916dbcbb3f70747c44a77c7bcd40155683ae19c65e1c03b4aa3499c5328201f1"
  },
  "kernelspec": {
   "display_name": "Python 3.8.10 64-bit",
   "name": "python3"
  },
  "language_info": {
   "codemirror_mode": {
    "name": "ipython",
    "version": 3
   },
   "file_extension": ".py",
   "mimetype": "text/x-python",
   "name": "python",
   "nbconvert_exporter": "python",
   "pygments_lexer": "ipython3",
   "version": "3.8.10"
  },
  "orig_nbformat": 4
 },
 "nbformat": 4,
 "nbformat_minor": 2
}
